{
 "cells": [
  {
   "cell_type": "raw",
   "id": "49949d06",
   "metadata": {},
   "source": [
    "1.Given a non-negative integer `x`, return the square root of `x` rounded down to the nearest integer. The returned\n",
    "    integer should be non-negative as well.\n",
    "    You must not use any built-in exponent function or operator.\n",
    "    For example, do not use `pow(x, 0.5)` in c++ or `x ** 0.5` in python.\n",
    "\n",
    "Example 1:\n",
    "    Input: x = 4\n",
    "    Output: 2\n",
    "    Explanation: The square root of 4 is 2, so we return 2.\n"
   ]
  },
  {
   "cell_type": "code",
   "execution_count": 3,
   "id": "7cf59fa6",
   "metadata": {},
   "outputs": [
    {
     "name": "stdout",
     "output_type": "stream",
     "text": [
      "2\n",
      "2\n"
     ]
    }
   ],
   "source": [
    "def floorSqrt(x):\n",
    " \n",
    "    if (x == 0 or x == 1):\n",
    "        return x\n",
    "    start = 1\n",
    "    end = x//2\n",
    "    while (start <= end):\n",
    "        mid = (start + end) // 2\n",
    " \n",
    "        if (mid*mid == x):\n",
    "            return mid\n",
    " \n",
    "        if (mid * mid < x):\n",
    "            start = mid + 1\n",
    "            ans = mid\n",
    " \n",
    "        else:\n",
    "            end = mid-1\n",
    "    return ans\n",
    "\n",
    "x = 4\n",
    "print(floorSqrt(x))\n",
    "\n",
    "x = 8\n",
    "print(floorSqrt(x))"
   ]
  },
  {
   "cell_type": "raw",
   "id": "6130c5f3",
   "metadata": {},
   "source": [
    "2.A peak element is an element that is strictly greater than its neighbors.\n",
    "    Given a 0-indexed integer array `nums`, find a peak element, and return its index. If the array contains multiple peaks,\n",
    "    return the index to any of the peaks.\n",
    "    You may imagine that `nums[-1] = nums[n] = -∞`. In other words, an element is always considered to be strictly greater than\n",
    "    a neighbor that is outside the array.\n",
    "    You must write an algorithm that runs in `O(log n)` time.\n",
    "\n",
    "Example 1:\n",
    "    Input: nums = [1,2,3,1]\n",
    "    Output: 2\n",
    "    Explanation: 3 is a peak element and your function should return the index number 2.\n",
    "Example 2:\n",
    "    Input: nums = [1,2,1,3,5,6,4]\n",
    "    Output: 5\n",
    "    Explanation: Your function can return either index number 1 where the peak element is 2, or index number 5 where the\n",
    "    peak element is 6."
   ]
  },
  {
   "cell_type": "code",
   "execution_count": 15,
   "id": "481c5951",
   "metadata": {},
   "outputs": [
    {
     "name": "stdout",
     "output_type": "stream",
     "text": [
      "Index of a peak point is 2\n",
      "\n",
      "Index of a peak point is 5\n"
     ]
    }
   ],
   "source": [
    "def findPeakUtil(num, low, high, n):\n",
    " \n",
    "    mid = low + (high - low)/2\n",
    "    mid = int(mid)\n",
    "\n",
    "    if ((mid == 0 or num[mid - 1] <= num[mid]) and\n",
    "        (mid == n - 1 or num[mid + 1] <= num[mid])):\n",
    "        return mid\n",
    " \n",
    "    elif (mid > 0 and num[mid - 1] > num[mid]):\n",
    "        return findPeakUtil(num, low, (mid - 1), n)\n",
    " \n",
    "    else:\n",
    "        return findPeakUtil(num, (mid + 1), high, n)\n",
    "\n",
    "def findPeak(num, n):\n",
    " \n",
    "    return findPeakUtil(num, 0, n - 1, n)\n",
    "\n",
    "num = [1,2,3,1]\n",
    "print(\"Index of a peak point is\", findPeak(num, n))\n",
    "print()\n",
    "num = [1,2,1,3,5,6,4]\n",
    "print(\"Index of a peak point is\", findPeak(num, n))"
   ]
  },
  {
   "cell_type": "raw",
   "id": "35bc0455",
   "metadata": {},
   "source": [
    "3.Given an array `nums` containing `n` distinct numbers in the range `[0, n]`, return the only number in the range that \n",
    "    is missing from the array.\n",
    "Example 1:\n",
    "    Input: nums = [3,0,1]\n",
    "    Output: 2\n",
    "    Explanation: n = 3 since there are 3 numbers, so all numbers are in the range [0,3]. 2 is the missing number in \n",
    "                    the range since it does not appear in nums.\n",
    "Example 2:\n",
    "    Input: nums = [0,1]\n",
    "    Output: 2\n",
    "    Explanation: n = 2 since there are 2 numbers, so all numbers are in the range [0,2]. 2 is the missing number in the\n",
    "                range since it does not appear in nums."
   ]
  },
  {
   "cell_type": "code",
   "execution_count": 6,
   "id": "65d2c2c6",
   "metadata": {},
   "outputs": [
    {
     "name": "stdout",
     "output_type": "stream",
     "text": [
      "The missing element is: 2\n",
      "\n",
      "The missing element is: 2\n"
     ]
    }
   ],
   "source": [
    "def findMissing(arr, N):\n",
    "    left = 0\n",
    "    right = N - 1\n",
    "    while left <= right:\n",
    "        mid = (left + right) // 2\n",
    "        if arr[mid] != mid + 1 and arr[mid - 1] == mid:\n",
    "            return mid + 1\n",
    "        if arr[mid] == mid + 1:\n",
    "            left = mid + 1\n",
    "        else:\n",
    "            right = mid - 1\n",
    "    return mid +2\n",
    "\n",
    "arr = [3,0,1]\n",
    "size = len(arr)\n",
    "print(\"The missing element is:\", findMissing(arr, size))\n",
    "print()\n",
    "arr = [0,1]\n",
    "size = len(arr)\n",
    "print(\"The missing element is:\", findMissing(arr, size))\n"
   ]
  },
  {
   "cell_type": "raw",
   "id": "7e044e87",
   "metadata": {},
   "source": [
    "4.Given an array of integers nums containing n + 1 integers where each integer is in the range [1, n] inclusive.\n",
    "    There is only one repeated number in nums, return this repeated number.\n",
    "    You must solve the problem without modifying the array nums and uses only constant extra space.\n",
    "Example 1:\n",
    "        Input: nums = [1,3,4,2,2]\n",
    "        Output: 2\n",
    "Example 2:\n",
    "        Input: nums = [3,1,3,4,2]\n",
    "        Output: 3\n"
   ]
  },
  {
   "cell_type": "code",
   "execution_count": 26,
   "id": "5e3b4552",
   "metadata": {},
   "outputs": [
    {
     "name": "stdout",
     "output_type": "stream",
     "text": [
      "2\n",
      "\n",
      "3\n"
     ]
    }
   ],
   "source": [
    "def findDuplicate(nums):\n",
    "    low, high, cnt = 1, len(nums) - 1, 0\n",
    "    while low <= high:\n",
    "        mid = low + (high - low) // 2\n",
    "        cnt = sum(1 for n in nums if n <= mid)\n",
    "        if cnt <= mid:\n",
    "            low = mid + 1\n",
    "        else:\n",
    "            high = mid - 1\n",
    "    return low\n",
    "\n",
    "v = [1,3,4,2,2]\n",
    "ans = findDuplicate(v)\n",
    "print(ans)\n",
    "print()\n",
    "v = [3,1,3,4,2]\n",
    "ans = findDuplicate(v)\n",
    "print(ans)\n"
   ]
  },
  {
   "cell_type": "raw",
   "id": "b27310c1",
   "metadata": {},
   "source": [
    "5.Given two integer arrays nums1 and nums2, return an array of their intersection. Each element in the result must be unique\n",
    "    and you may return the result in any order.\n",
    "Example 1:\n",
    "        Input: nums1 = [1,2,2,1], nums2 = [2,2]\n",
    "        Output: [2]\n",
    "Example 2:\n",
    "        Input: nums1 = [4,9,5], nums2 = [9,4,9,8,4]\n",
    "        Output: [9,4]\n",
    "        Explanation: [4,9] is also accepted."
   ]
  },
  {
   "cell_type": "code",
   "execution_count": 43,
   "id": "311a97df",
   "metadata": {},
   "outputs": [
    {
     "name": "stdout",
     "output_type": "stream",
     "text": [
      "2 2 "
     ]
    }
   ],
   "source": [
    "def binarySearch(arr, l, r, x):\n",
    "    if r >= l:\n",
    "        mid = l + (r - l) // 2\n",
    "        if arr[mid] == x:\n",
    "            return mid\n",
    "        if arr[mid] > x:\n",
    "            return binarySearch(arr, l, mid - 1, x)\n",
    "        return binarySearch(arr, mid + 1, r, x)\n",
    "    return -1\n",
    "\n",
    "def printIntersection(num1, num2, m, n):\n",
    "    if m > n:\n",
    "        num1, num2 = num2, num1\n",
    "        m, n = n, m\n",
    "    num1.sort()\n",
    "    for i in range(n):\n",
    "        if binarySearch(num1, 0, m - 1, num2[i]) != -1:\n",
    "            print(num2[i], end=\" \")\n",
    "\n",
    "num1 = [1,2,2,1]\n",
    "num2 = [2,2]\n",
    "m = len(num1)\n",
    "n = len(num2)\n",
    "printIntersection(num1, num2, m,n)\n"
   ]
  },
  {
   "cell_type": "raw",
   "id": "432fa409",
   "metadata": {},
   "source": [
    "6.Suppose an array of length `n` sorted in ascending order is rotated between `1` and `n` times. For example, the array\n",
    "    `nums = [0,1,2,4,5,6,7]` might become:\n",
    "        -> [4,5,6,7,0,1,2]` if it was rotated `4` times.\n",
    "        -> [0,1,2,4,5,6,7]` if it was rotated `7` times.\n",
    "Notice that rotating an array `[a[0], a[1], a[2], ..., a[n-1]]` 1 time results in the array `[a[n-1], a[0], a[1], a[2], ...,\n",
    "                                                    a[n-2]]`.\n",
    "Given the sorted rotated array `nums` of unique elements, return the minimum element of this array.\n",
    "You must write an algorithm that runs in `O(log n) time.`\n",
    "\n",
    "Example 1:\n",
    "        Input: nums = [3,4,5,1,2]\n",
    "        Output: 1\n",
    "        Explanation: The original array was [1,2,3,4,5] rotated 3 times.\n",
    "Example 2:\n",
    "        Input: nums = [4,5,6,7,0,1,2]\n",
    "        Output: 0\n",
    "        Explanation: The original array was [0,1,2,4,5,6,7] and it was rotated 4 times.\n",
    "Example 3:\n",
    "        Input: nums = [11,13,15,17]\n",
    "        Output: 11\n",
    "        Explanation: The original array was [11,13,15,17] and it was rotated 4 times."
   ]
  },
  {
   "cell_type": "code",
   "execution_count": 50,
   "id": "99ccf9af",
   "metadata": {},
   "outputs": [
    {
     "name": "stdout",
     "output_type": "stream",
     "text": [
      "The minimum element is 1\n",
      " \n",
      "The minimum element is 0\n",
      " \n",
      "The minimum element is 11\n"
     ]
    }
   ],
   "source": [
    "def findMin(arr, low, high):\n",
    "    if high < low:\n",
    "        return arr[0]\n",
    "    if high == low:\n",
    "        return arr[low]\n",
    "    mid = low + (high - low) // 2\n",
    "    if mid < high and arr[mid + 1] < arr[mid]:\n",
    "        return arr[mid + 1]\n",
    "    if mid > low and arr[mid] < arr[mid - 1]:\n",
    "        return arr[mid]\n",
    "    if arr[high] > arr[mid]:\n",
    "        return findMin(arr, low, mid - 1)\n",
    "    return findMin(arr, mid + 1, high)\n",
    "\n",
    "arr = [3,4,5,1,2]\n",
    "print(\"The minimum element is\", findMin(arr, 0, N - 1))\n",
    "print(\" \")\n",
    "arr=[4,5,6,7,0,1,2]\n",
    "print(\"The minimum element is\", findMin(arr, 0, N - 1))\n",
    "print(\" \")\n",
    "arr= [11,13,15,17]\n",
    "N=len(arr)\n",
    "print(\"The minimum element is\", findMin(arr, 0, N - 1))"
   ]
  },
  {
   "cell_type": "raw",
   "id": "be4efad9",
   "metadata": {},
   "source": [
    "7.Given an array of integers nums sorted in non-decreasing order, find the starting and ending position of a given target\n",
    "    value.\n",
    "    If target is not found in the array, return [-1, -1].\n",
    "    You must write an algorithm with O(log n) runtime complexity.\n",
    "Example 1:\n",
    "        Input: nums = [5,7,7,8,8,10], target = 8\n",
    "        Output: [3,4]\n",
    "Example 2:\n",
    "        Input: nums = [5,7,7,8,8,10], target = 6\n",
    "        Output: [-1,-1]\n",
    "\n"
   ]
  },
  {
   "cell_type": "code",
   "execution_count": 54,
   "id": "95fac146",
   "metadata": {},
   "outputs": [
    {
     "name": "stdout",
     "output_type": "stream",
     "text": [
      "3 4\n",
      " \n",
      "-1 -1\n"
     ]
    }
   ],
   "source": [
    "def first(arr, x, n):\n",
    "    low, high, res = 0, n - 1, -1\n",
    "    while low <= high:\n",
    "        mid = (low + high) // 2\n",
    "        if arr[mid] > x:\n",
    "            high = mid - 1\n",
    "        elif arr[mid] < x:\n",
    "            low = mid + 1\n",
    "        else:\n",
    "            res = mid\n",
    "            high = mid - 1\n",
    "    return res\n",
    "\n",
    "def last(arr, x, n):\n",
    "    low, high, res = 0, n - 1, -1\n",
    "    while low <= high:\n",
    "        mid = (low + high) // 2\n",
    "        if arr[mid] > x:\n",
    "            high = mid - 1\n",
    "        elif arr[mid] < x:\n",
    "            low = mid + 1\n",
    "        else:\n",
    "            res = mid\n",
    "            low = mid + 1\n",
    "    return res\n",
    "\n",
    "arr = [5,7,7,8,8,10]\n",
    "n = len(arr)\n",
    "x = 8\n",
    "print( first(arr, x, n),last(arr, x, n))\n",
    "print(\" \")\n",
    "arr = [5,7,7,8,8,10]\n",
    "n = len(arr)\n",
    "x = 6\n",
    "print( first(arr, x, n),last(arr, x, n))\n"
   ]
  },
  {
   "cell_type": "raw",
   "id": "f5d82bcb",
   "metadata": {},
   "source": [
    "8.Given two integer arrays nums1 and nums2, return an array of their intersection. Each element in the result must be unique\n",
    "    and you may return the result in any order.\n",
    "Example 1:\n",
    "        Input: nums1 = [1,2,2,1], nums2 = [2,2]\n",
    "        Output: [2]\n",
    "Example 2:\n",
    "        Input: nums1 = [4,9,5], nums2 = [9,4,9,8,4]\n",
    "        Output: [9,4]\n",
    "        Explanation: [4,9] is also accepted."
   ]
  },
  {
   "cell_type": "code",
   "execution_count": 55,
   "id": "7639baaa",
   "metadata": {},
   "outputs": [
    {
     "name": "stdout",
     "output_type": "stream",
     "text": [
      "2 2 "
     ]
    }
   ],
   "source": [
    "def binarySearch(arr, l, r, x):\n",
    "    if r >= l:\n",
    "        mid = l + (r - l) // 2\n",
    "        if arr[mid] == x:\n",
    "            return mid\n",
    "        if arr[mid] > x:\n",
    "            return binarySearch(arr, l, mid - 1, x)\n",
    "        return binarySearch(arr, mid + 1, r, x)\n",
    "    return -1\n",
    "\n",
    "def printIntersection(num1, num2, m, n):\n",
    "    if m > n:\n",
    "        num1, num2 = num2, num1\n",
    "        m, n = n, m\n",
    "    num1.sort()\n",
    "    for i in range(n):\n",
    "        if binarySearch(num1, 0, m - 1, num2[i]) != -1:\n",
    "            print(num2[i], end=\" \")\n",
    "\n",
    "num1 = [1,2,2,1]\n",
    "num2 = [2,2]\n",
    "m = len(num1)\n",
    "n = len(num2)\n",
    "printIntersection(num1, num2, m,n)\n"
   ]
  },
  {
   "cell_type": "code",
   "execution_count": null,
   "id": "98d77774",
   "metadata": {},
   "outputs": [],
   "source": []
  }
 ],
 "metadata": {
  "kernelspec": {
   "display_name": "Python 3 (ipykernel)",
   "language": "python",
   "name": "python3"
  },
  "language_info": {
   "codemirror_mode": {
    "name": "ipython",
    "version": 3
   },
   "file_extension": ".py",
   "mimetype": "text/x-python",
   "name": "python",
   "nbconvert_exporter": "python",
   "pygments_lexer": "ipython3",
   "version": "3.9.12"
  }
 },
 "nbformat": 4,
 "nbformat_minor": 5
}
