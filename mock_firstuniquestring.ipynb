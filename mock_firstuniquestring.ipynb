{
 "cells": [
  {
   "cell_type": "code",
   "execution_count": 1,
   "id": "929ae2ea",
   "metadata": {},
   "outputs": [
    {
     "name": "stdout",
     "output_type": "stream",
     "text": [
      "0\n",
      " \n",
      "2\n",
      " \n",
      "-1\n"
     ]
    }
   ],
   "source": [
    "def Uniq(s):\n",
    "    seq = [0]*256\n",
    "    for c in s:\n",
    "        seq[ord(c) - ord('a')] += 1\n",
    "    for i in range(len(s)):\n",
    "        if seq[ord(s[i]) - ord('a')] == 1:\n",
    "            return i\n",
    "    return -1\n",
    "\n",
    "s = \"leetcode\"\n",
    "print(str(Uniq(s)))\n",
    "print(\" \")\n",
    "s = \"loveleetcode\"\n",
    "print(str(Uniq(s)))\n",
    "print(\" \")\n",
    "s = \"aabb\"\n",
    "print(str(Uniq(s)))"
   ]
  },
  {
   "cell_type": "code",
   "execution_count": null,
   "id": "f6ecd703",
   "metadata": {},
   "outputs": [],
   "source": []
  },
  {
   "cell_type": "code",
   "execution_count": null,
   "id": "3f86c661",
   "metadata": {},
   "outputs": [],
   "source": []
  }
 ],
 "metadata": {
  "kernelspec": {
   "display_name": "Python 3 (ipykernel)",
   "language": "python",
   "name": "python3"
  },
  "language_info": {
   "codemirror_mode": {
    "name": "ipython",
    "version": 3
   },
   "file_extension": ".py",
   "mimetype": "text/x-python",
   "name": "python",
   "nbconvert_exporter": "python",
   "pygments_lexer": "ipython3",
   "version": "3.9.12"
  }
 },
 "nbformat": 4,
 "nbformat_minor": 5
}
